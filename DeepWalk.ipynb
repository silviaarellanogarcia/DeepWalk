{
  "cells": [
    {
      "cell_type": "markdown",
      "metadata": {
        "id": "IBFmFiBQOpq9"
      },
      "source": [
        "# DEEPWALK IMPLEMENTATION"
      ]
    },
    {
      "cell_type": "code",
      "execution_count": 10,
      "metadata": {
        "id": "rmvSUJHxkNvM"
      },
      "outputs": [],
      "source": [
        "PATH = '/Users/silviaarellanogarcia/Documents/MSc MACHINE LEARNING/Advanced Machine Learning/Project/Datasets/BlogCatalog-dataset'\n",
        "SAVE_PATH = '/Users/silviaarellanogarcia/Documents/MSc MACHINE LEARNING/Advanced Machine Learning/Project/embeddings_deepwalk'"
      ]
    },
    {
      "cell_type": "code",
      "execution_count": 2,
      "metadata": {
        "colab": {
          "base_uri": "https://localhost:8080/"
        },
        "id": "mSnkZOaIn48c",
        "outputId": "302a0e26-37ee-4e96-a6d3-f84eedc06792"
      },
      "outputs": [
        {
          "name": "stdout",
          "output_type": "stream",
          "text": [
            "Requirement already satisfied: umap-learn in ./.venv/lib/python3.11/site-packages (0.5.5)\n",
            "Requirement already satisfied: numpy>=1.17 in ./.venv/lib/python3.11/site-packages (from umap-learn) (1.26.2)\n",
            "Requirement already satisfied: scipy>=1.3.1 in ./.venv/lib/python3.11/site-packages (from umap-learn) (1.11.4)\n",
            "Requirement already satisfied: scikit-learn>=0.22 in ./.venv/lib/python3.11/site-packages (from umap-learn) (1.3.2)\n",
            "Requirement already satisfied: numba>=0.51.2 in ./.venv/lib/python3.11/site-packages (from umap-learn) (0.58.1)\n",
            "Requirement already satisfied: pynndescent>=0.5 in ./.venv/lib/python3.11/site-packages (from umap-learn) (0.5.11)\n",
            "Requirement already satisfied: tqdm in ./.venv/lib/python3.11/site-packages (from umap-learn) (4.66.1)\n",
            "Requirement already satisfied: llvmlite<0.42,>=0.41.0dev0 in ./.venv/lib/python3.11/site-packages (from numba>=0.51.2->umap-learn) (0.41.1)\n",
            "Requirement already satisfied: joblib>=0.11 in ./.venv/lib/python3.11/site-packages (from pynndescent>=0.5->umap-learn) (1.3.2)\n",
            "Requirement already satisfied: threadpoolctl>=2.0.0 in ./.venv/lib/python3.11/site-packages (from scikit-learn>=0.22->umap-learn) (3.2.0)\n",
            "\n",
            "\u001b[1m[\u001b[0m\u001b[34;49mnotice\u001b[0m\u001b[1;39;49m]\u001b[0m\u001b[39;49m A new release of pip is available: \u001b[0m\u001b[31;49m23.3.1\u001b[0m\u001b[39;49m -> \u001b[0m\u001b[32;49m23.3.2\u001b[0m\n",
            "\u001b[1m[\u001b[0m\u001b[34;49mnotice\u001b[0m\u001b[1;39;49m]\u001b[0m\u001b[39;49m To update, run: \u001b[0m\u001b[32;49mpip install --upgrade pip\u001b[0m\n",
            "Requirement already satisfied: networkx in ./.venv/lib/python3.11/site-packages (3.2.1)\n",
            "\n",
            "\u001b[1m[\u001b[0m\u001b[34;49mnotice\u001b[0m\u001b[1;39;49m]\u001b[0m\u001b[39;49m A new release of pip is available: \u001b[0m\u001b[31;49m23.3.1\u001b[0m\u001b[39;49m -> \u001b[0m\u001b[32;49m23.3.2\u001b[0m\n",
            "\u001b[1m[\u001b[0m\u001b[34;49mnotice\u001b[0m\u001b[1;39;49m]\u001b[0m\u001b[39;49m To update, run: \u001b[0m\u001b[32;49mpip install --upgrade pip\u001b[0m\n",
            "Requirement already satisfied: gensim in ./.venv/lib/python3.11/site-packages (4.3.2)\n",
            "Requirement already satisfied: numpy>=1.18.5 in ./.venv/lib/python3.11/site-packages (from gensim) (1.26.2)\n",
            "Requirement already satisfied: scipy>=1.7.0 in ./.venv/lib/python3.11/site-packages (from gensim) (1.11.4)\n",
            "Requirement already satisfied: smart-open>=1.8.1 in ./.venv/lib/python3.11/site-packages (from gensim) (6.4.0)\n",
            "\n",
            "\u001b[1m[\u001b[0m\u001b[34;49mnotice\u001b[0m\u001b[1;39;49m]\u001b[0m\u001b[39;49m A new release of pip is available: \u001b[0m\u001b[31;49m23.3.1\u001b[0m\u001b[39;49m -> \u001b[0m\u001b[32;49m23.3.2\u001b[0m\n",
            "\u001b[1m[\u001b[0m\u001b[34;49mnotice\u001b[0m\u001b[1;39;49m]\u001b[0m\u001b[39;49m To update, run: \u001b[0m\u001b[32;49mpip install --upgrade pip\u001b[0m\n",
            "Requirement already satisfied: seaborn in ./.venv/lib/python3.11/site-packages (0.13.0)\n",
            "Requirement already satisfied: matplotlib in ./.venv/lib/python3.11/site-packages (3.8.2)\n",
            "Requirement already satisfied: pandas in ./.venv/lib/python3.11/site-packages (2.1.4)\n",
            "Requirement already satisfied: numpy!=1.24.0,>=1.20 in ./.venv/lib/python3.11/site-packages (from seaborn) (1.26.2)\n",
            "Requirement already satisfied: contourpy>=1.0.1 in ./.venv/lib/python3.11/site-packages (from matplotlib) (1.2.0)\n",
            "Requirement already satisfied: cycler>=0.10 in ./.venv/lib/python3.11/site-packages (from matplotlib) (0.12.1)\n",
            "Requirement already satisfied: fonttools>=4.22.0 in ./.venv/lib/python3.11/site-packages (from matplotlib) (4.46.0)\n",
            "Requirement already satisfied: kiwisolver>=1.3.1 in ./.venv/lib/python3.11/site-packages (from matplotlib) (1.4.5)\n",
            "Requirement already satisfied: packaging>=20.0 in ./.venv/lib/python3.11/site-packages (from matplotlib) (23.2)\n",
            "Requirement already satisfied: pillow>=8 in ./.venv/lib/python3.11/site-packages (from matplotlib) (10.1.0)\n",
            "Requirement already satisfied: pyparsing>=2.3.1 in ./.venv/lib/python3.11/site-packages (from matplotlib) (3.1.1)\n",
            "Requirement already satisfied: python-dateutil>=2.7 in ./.venv/lib/python3.11/site-packages (from matplotlib) (2.8.2)\n",
            "Requirement already satisfied: pytz>=2020.1 in ./.venv/lib/python3.11/site-packages (from pandas) (2023.3.post1)\n",
            "Requirement already satisfied: tzdata>=2022.1 in ./.venv/lib/python3.11/site-packages (from pandas) (2023.3)\n",
            "Requirement already satisfied: six>=1.5 in ./.venv/lib/python3.11/site-packages (from python-dateutil>=2.7->matplotlib) (1.16.0)\n",
            "\n",
            "\u001b[1m[\u001b[0m\u001b[34;49mnotice\u001b[0m\u001b[1;39;49m]\u001b[0m\u001b[39;49m A new release of pip is available: \u001b[0m\u001b[31;49m23.3.1\u001b[0m\u001b[39;49m -> \u001b[0m\u001b[32;49m23.3.2\u001b[0m\n",
            "\u001b[1m[\u001b[0m\u001b[34;49mnotice\u001b[0m\u001b[1;39;49m]\u001b[0m\u001b[39;49m To update, run: \u001b[0m\u001b[32;49mpip install --upgrade pip\u001b[0m\n",
            "Requirement already satisfied: scikit-learn in ./.venv/lib/python3.11/site-packages (1.3.2)\n",
            "Requirement already satisfied: numpy<2.0,>=1.17.3 in ./.venv/lib/python3.11/site-packages (from scikit-learn) (1.26.2)\n",
            "Requirement already satisfied: scipy>=1.5.0 in ./.venv/lib/python3.11/site-packages (from scikit-learn) (1.11.4)\n",
            "Requirement already satisfied: joblib>=1.1.1 in ./.venv/lib/python3.11/site-packages (from scikit-learn) (1.3.2)\n",
            "Requirement already satisfied: threadpoolctl>=2.0.0 in ./.venv/lib/python3.11/site-packages (from scikit-learn) (3.2.0)\n",
            "\n",
            "\u001b[1m[\u001b[0m\u001b[34;49mnotice\u001b[0m\u001b[1;39;49m]\u001b[0m\u001b[39;49m A new release of pip is available: \u001b[0m\u001b[31;49m23.3.1\u001b[0m\u001b[39;49m -> \u001b[0m\u001b[32;49m23.3.2\u001b[0m\n",
            "\u001b[1m[\u001b[0m\u001b[34;49mnotice\u001b[0m\u001b[1;39;49m]\u001b[0m\u001b[39;49m To update, run: \u001b[0m\u001b[32;49mpip install --upgrade pip\u001b[0m\n",
            "Requirement already satisfied: scikit-multilearn in ./.venv/lib/python3.11/site-packages (0.2.0)\n",
            "\n",
            "\u001b[1m[\u001b[0m\u001b[34;49mnotice\u001b[0m\u001b[1;39;49m]\u001b[0m\u001b[39;49m A new release of pip is available: \u001b[0m\u001b[31;49m23.3.1\u001b[0m\u001b[39;49m -> \u001b[0m\u001b[32;49m23.3.2\u001b[0m\n",
            "\u001b[1m[\u001b[0m\u001b[34;49mnotice\u001b[0m\u001b[1;39;49m]\u001b[0m\u001b[39;49m To update, run: \u001b[0m\u001b[32;49mpip install --upgrade pip\u001b[0m\n"
          ]
        }
      ],
      "source": [
        "!pip install umap-learn\n",
        "!pip install networkx\n",
        "!pip install gensim\n",
        "!pip install seaborn matplotlib pandas\n",
        "!pip install scikit-learn\n",
        "!pip install scikit-multilearn"
      ]
    },
    {
      "cell_type": "code",
      "execution_count": 3,
      "metadata": {
        "id": "fcBiplQ_OpQe"
      },
      "outputs": [],
      "source": [
        "import networkx as nx\n",
        "import random\n",
        "from gensim.models import Word2Vec # Needed for Word2Vec\n",
        "import numpy as np\n",
        "\n",
        "import seaborn as sns\n",
        "import matplotlib.pyplot as plt\n",
        "import matplotlib as mpl\n",
        "\n",
        "import pandas as pd\n",
        "\n",
        "from sklearn.model_selection import StratifiedKFold\n",
        "from sklearn.linear_model import LogisticRegression\n",
        "from sklearn.metrics import f1_score\n",
        "from sklearn.preprocessing import MultiLabelBinarizer\n",
        "\n",
        "from sklearn.model_selection import KFold\n",
        "from sklearn.multiclass import OneVsRestClassifier\n",
        "\n",
        "from multiprocessing import cpu_count\n",
        "\n",
        "from concurrent.futures import ProcessPoolExecutor\n",
        "from six import string_types\n",
        "from gensim.models.word2vec import Vocab\n",
        "\n",
        "from collections import defaultdict\n",
        "from scipy.sparse import coo_matrix\n",
        "from sklearn.utils import shuffle as skshuffle"
      ]
    },
    {
      "cell_type": "code",
      "execution_count": 29,
      "metadata": {
        "id": "OvFVE6fquPPh"
      },
      "outputs": [],
      "source": [
        "# HYPERPARAMETERS\n",
        "window_size = 5\n",
        "embedding_size = 128\n",
        "walks_per_vertex = 10 ## 10 --> Value used in Khosla's comparative paper\n",
        "walk_length = 40 ## 40 --> Value used in Khosla's comparative paper"
      ]
    },
    {
      "cell_type": "markdown",
      "metadata": {
        "id": "HwbpZmS_hoAK"
      },
      "source": [
        "### IMPLEMENTATION OF THE DEEPWALK METHOD."
      ]
    },
    {
      "cell_type": "code",
      "execution_count": 5,
      "metadata": {
        "id": "2DCARpZ5Ulbi"
      },
      "outputs": [],
      "source": [
        "def Random_Walk(G, vi, t):\n",
        "  '''\n",
        "  Inputs:\n",
        "    G: Graph\n",
        "    vi: initial vertex of the random walk\n",
        "    t: walk length (the walks could have different length according to the paper)\n",
        "  Output:\n",
        "    Wvi: sequence of vertices visited in the random walk (starting from vi).\n",
        "  '''\n",
        "  Wvi = []\n",
        "  Wvi.append(str(vi)) # The initial vertex is always visited\n",
        "  last_visited = vi\n",
        "\n",
        "  for i in range(t):\n",
        "    neighbors_last_vi = list(G.neighbors(last_visited))\n",
        "    last_visited = random.choice(neighbors_last_vi)\n",
        "    Wvi.append(str(last_visited))\n",
        "\n",
        "  return Wvi"
      ]
    },
    {
      "cell_type": "code",
      "execution_count": 6,
      "metadata": {
        "id": "1OOSUB7HhoAL"
      },
      "outputs": [],
      "source": [
        "# Optimization method\n",
        "class Skipgram(Word2Vec):\n",
        "    \"\"\"A subclass to allow more customization of the Word2Vec internals.\"\"\"\n",
        "\n",
        "    def __init__(self, **kwargs):\n",
        "\n",
        "        self.vocabulary_counts = None\n",
        "\n",
        "        kwargs[\"min_count\"] = kwargs.get(\"min_count\", 0)\n",
        "        kwargs[\"workers\"] = kwargs.get(\"workers\", cpu_count())\n",
        "        kwargs[\"vector_size\"] = 128\n",
        "        kwargs[\"sentences\"] = kwargs.get(\"sentences\", None)\n",
        "        kwargs[\"window\"] = kwargs.get(\"window\", 10)\n",
        "        kwargs[\"sg\"] = 1\n",
        "        kwargs[\"hs\"] = 1\n",
        "\n",
        "        super(Skipgram, self).__init__(**kwargs)"
      ]
    },
    {
      "cell_type": "code",
      "execution_count": 17,
      "metadata": {
        "id": "x1xVPIRyYSXT"
      },
      "outputs": [],
      "source": [
        "def DeepWalk(G, w, d, gamma, t):\n",
        "  '''\n",
        "  Inputs:\n",
        "    G: Graph with vertices V and edges E\n",
        "    w: window size\n",
        "    d: embedding size\n",
        "    gamma: walks per vertex\n",
        "    t: walk length\n",
        "  Outputs:\n",
        "    phi: matrix of vertex representations\n",
        "  '''\n",
        "  vertices_in_G = list(G.nodes)\n",
        "  Wvi = [] # Array where each element is a list of arrays containing the walks that start from that vertex.\n",
        "\n",
        "  for i in range(0, gamma):\n",
        "    random.shuffle(vertices_in_G) # This variable receives the name O in the paper\n",
        "    for vi in vertices_in_G:\n",
        "      Wvi.append(Random_Walk(G, vi, t))\n",
        "\n",
        "  print(\"Finish random walk\")\n",
        "\n",
        "  phi_model = Skipgram(sentences=Wvi, window=w, min_count=0, trim_rule=None)\n",
        "\n",
        "  return phi_model"
      ]
    },
    {
      "cell_type": "code",
      "execution_count": null,
      "metadata": {
        "id": "zoiR1T8whoAM"
      },
      "outputs": [],
      "source": [
        "# Subroutine to label a node with MAX-VOTE --> NOT NECESSARY. The original paper uses this as a baseline\n",
        "def Max_Vote(G, node, k, L):\n",
        "  '''\n",
        "  node: node to label --> v in the paper\n",
        "  neighbors: neighbors of the node to label --> N(v) in the paper\n",
        "  k: Number of labels that will be assigned to the vertex\n",
        "  L: total number of possible labels\n",
        "\n",
        "  Output:\n",
        "    k_lab: most frequent k labels\n",
        "  '''\n",
        "  freq_labels = np.zeros(L)\n",
        "  k_lab = np.full(k , -1) # Set to -1 all the chosen labels\n",
        "  neighbors = list(G.neighbors(node))\n",
        "\n",
        "  for n in neighbors:\n",
        "    labels_neighbor = G.nodes[n]['group'] # Is it necessary to check if the neighbor is empty, or it won't have any effect?\n",
        "    print(labels_neighbor)\n",
        "    for l in labels_neighbor:\n",
        "      freq_labels[l] += 1\n",
        "\n",
        "  used_labels = np.count_nonzero(freq_labels)\n",
        "  for i in range(min(k, used_labels)):\n",
        "    k_lab[i] = np.argmax(freq_labels)\n",
        "    freq_labels[k_lab[i]] = -1 # We mark it as used, but at the same time we differentiate this label and the ones that haven't appeared.\n",
        "\n",
        "  if(k > used_labels): # In case we have to assign more classes than the ones of our neighbors, we choose randomly\n",
        "    zero_indices = np.where(freq_labels == 0)[0]\n",
        "    random_zero_indices = np.random.choice(zero_indices, size=(k - used_labels), replace=False)\n",
        "    k_lab[used_labels:k] = random_zero_indices\n",
        "\n",
        "  return k_lab"
      ]
    },
    {
      "cell_type": "code",
      "execution_count": 8,
      "metadata": {
        "id": "Wq4qJrV6hoAM"
      },
      "outputs": [],
      "source": [
        "# Some methods need to have all the labels inside an array. Depending on the case, that array has to be composed with arrays/sets containing the labels assigned to each node\n",
        "\n",
        "def get_set_labels(G):\n",
        "    '''\n",
        "    Input:\n",
        "        G: Graph\n",
        "    Output:\n",
        "        labels: List of sets containing labels. Each set corresponds to the groups of id = index + 1\n",
        "    '''\n",
        "\n",
        "    labels = []\n",
        "\n",
        "    for n in G.nodes:\n",
        "        l = set(G.nodes[n].get('group_belonging', []))  # Ensure an empty list is converted to an empty set\n",
        "        labels.append(l)\n",
        "\n",
        "    return labels\n",
        "\n",
        "def get_array_labels(G):\n",
        "  '''\n",
        "  Input:\n",
        "    G: Graph\n",
        "  Output:\n",
        "    labels: Array with labels. Each position of the array will correspond to the groups of id = index + 1\n",
        "  '''\n",
        "\n",
        "  labels = []\n",
        "\n",
        "  for n in G.nodes:\n",
        "      l = G.nodes[n].get('group_belonging')\n",
        "      labels.append(l)\n",
        "  return labels"
      ]
    },
    {
      "cell_type": "markdown",
      "metadata": {
        "id": "JSZXH0-XL7BQ"
      },
      "source": [
        "### Running DeepWalk in the YouTube Dataset"
      ]
    },
    {
      "cell_type": "code",
      "execution_count": 12,
      "metadata": {
        "id": "UqtW6C9cMHh_"
      },
      "outputs": [],
      "source": [
        "# Load the data\n",
        "\n",
        "edges_path = PATH + '/data/edges.csv'\n",
        "nodes_path = PATH + '/data/nodes.csv'\n",
        "groups_path = PATH + '/data/groups.csv'\n",
        "group_edges_path = PATH + '/data/group-edges.csv'"
      ]
    },
    {
      "cell_type": "code",
      "execution_count": 13,
      "metadata": {
        "id": "Ancuao3dOb6j"
      },
      "outputs": [],
      "source": [
        "nodes_id = pd.read_csv(nodes_path, header=None, names=['id'])\n",
        "groups_id = pd.read_csv(groups_path, header=None, names=['group'])\n",
        "edges = pd.read_csv(edges_path, header=None, names=['id_1', 'id_2'])\n",
        "user_group_membership = pd.read_csv(group_edges_path, header=None, names=['id', 'group'])"
      ]
    },
    {
      "cell_type": "code",
      "execution_count": 14,
      "metadata": {
        "id": "nm0Uwyy1O2OG"
      },
      "outputs": [],
      "source": [
        "# Create a graph\n",
        "G_YT = nx.Graph()\n",
        "\n",
        "# Add nodes to the graph\n",
        "G_YT.add_nodes_from(nodes_id['id'])\n",
        "\n",
        "# Add edges to the graph\n",
        "G_YT.add_edges_from(edges[['id_1', 'id_2']].values)"
      ]
    },
    {
      "cell_type": "code",
      "execution_count": 15,
      "metadata": {
        "colab": {
          "base_uri": "https://localhost:8080/"
        },
        "id": "VPdk7kfImgcK",
        "outputId": "041d7556-cb34-4442-831d-e6af06a94f51"
      },
      "outputs": [
        {
          "name": "stdout",
          "output_type": "stream",
          "text": [
            "Number of nodes: 10312\n",
            "Number of edges: 333983\n"
          ]
        }
      ],
      "source": [
        "# Create a dictionary to store groups for each ID\n",
        "group_dict = {}\n",
        "\n",
        "# Populate the group_dict\n",
        "for _, row in user_group_membership.iterrows():\n",
        "    user_id = row['id']\n",
        "    group_id = row['group']\n",
        "\n",
        "    # Check if the user_id is already in the dictionary\n",
        "    if user_id in group_dict:\n",
        "        group_dict[user_id].append(group_id)\n",
        "    else:\n",
        "        group_dict[user_id] = [group_id]\n",
        "\n",
        "# Add group labels to the nodes\n",
        "for user_id, groups in group_dict.items():\n",
        "    nx.set_node_attributes(G_YT, {user_id: groups}, 'group_belonging')\n",
        "\n",
        "# Print basic graph information\n",
        "print(\"Number of nodes:\", G_YT.number_of_nodes())\n",
        "print(\"Number of edges:\", G_YT.number_of_edges())\n"
      ]
    },
    {
      "cell_type": "code",
      "execution_count": 30,
      "metadata": {
        "colab": {
          "base_uri": "https://localhost:8080/"
        },
        "id": "CJKQHDrDt0nK",
        "outputId": "a34cb852-93b3-421e-e81e-301b2b7c1c68"
      },
      "outputs": [
        {
          "name": "stdout",
          "output_type": "stream",
          "text": [
            "Finish random walk\n"
          ]
        }
      ],
      "source": [
        "# Graph: G_YT\n",
        "phi_model_YT = DeepWalk(G_YT, window_size, embedding_size, walks_per_vertex, walk_length) # Phi represents the learned embedding matrix."
      ]
    },
    {
      "cell_type": "code",
      "execution_count": null,
      "metadata": {
        "id": "tnE2PBn2As7q"
      },
      "outputs": [],
      "source": [
        "# Save the model in Word2Vec format\n",
        "phi_model_YT.wv.save_word2vec_format(SAVE_PATH + '/model.embedding')"
      ]
    },
    {
      "cell_type": "code",
      "execution_count": 40,
      "metadata": {
        "colab": {
          "base_uri": "https://localhost:8080/"
        },
        "id": "sjgGD4CChoAQ",
        "outputId": "872ae71b-3edd-4b0f-ef61-6ad3d2159931"
      },
      "outputs": [
        {
          "name": "stdout",
          "output_type": "stream",
          "text": [
            "[[ 3.9029792e-02 -7.4509203e-02  1.9705916e-02 ... -2.2880552e-02\n",
            "  -1.1057488e-01  8.4063724e-02]\n",
            " [ 1.4815228e-01 -4.0864438e-02 -1.5822094e-02 ... -1.7346462e-02\n",
            "  -1.2010539e-01 -9.8569125e-02]\n",
            " [ 1.1528076e-01 -1.6438906e-01  2.1793266e-01 ...  1.4944337e-01\n",
            "   7.8751571e-02 -5.7726976e-02]\n",
            " ...\n",
            " [ 1.5521358e-02 -2.7485590e-02  2.1701198e-02 ... -6.0926676e-03\n",
            "  -2.3639269e-01 -1.6306630e-01]\n",
            " [-1.0369864e-01 -3.0257350e-01  2.3209524e-01 ...  4.2347886e-02\n",
            "  -8.6039029e-02  2.4708234e-02]\n",
            " [-1.8214239e-04 -8.4668294e-02  1.7950159e-02 ...  4.3078694e-02\n",
            "  -2.1720786e-01  9.6658140e-02]]\n"
          ]
        }
      ],
      "source": [
        "# Generate the embedding vectors\n",
        "phi_vectors_YT = phi_model_YT.wv.vectors\n",
        "print(phi_vectors_YT)"
      ]
    },
    {
      "cell_type": "code",
      "execution_count": null,
      "metadata": {
        "id": "H6aQ4_h3hoAR"
      },
      "outputs": [],
      "source": [
        "# Save the vectors in a numpy file\n",
        "np.save(SAVE_PATH + 'phi_vectors_YT.npy', phi_vectors_YT)"
      ]
    },
    {
      "cell_type": "code",
      "execution_count": null,
      "metadata": {
        "id": "pTzxR8nfhoAS"
      },
      "outputs": [],
      "source": [
        "# LOAD PHI VECTORS YT FROM FILE\n",
        "phi_vectors_YT = np.load(SAVE_PATH + '/phi_vectors_YT.npy')"
      ]
    },
    {
      "cell_type": "code",
      "execution_count": 41,
      "metadata": {
        "id": "N1Zu0ES3hoAU"
      },
      "outputs": [],
      "source": [
        "# To improve the access to the adjacency matrix, we pass the info to a dictionary, where all the nodes have a entry, and the values aare the neighbours\n",
        "def adj_dictionary(x):\n",
        "    G = defaultdict(lambda: set())\n",
        "    cx = x.tocoo() # Return a COOrdinate representation of this matrix\n",
        "    for i,j,v in zip(cx.row, cx.col, cx.data):\n",
        "        G[i].add(j)\n",
        "    return {str(k): [str(x) for x in v] for k, v in G.items()}"
      ]
    },
    {
      "cell_type": "code",
      "execution_count": 42,
      "metadata": {
        "id": "pMdrBL1thoAY"
      },
      "outputs": [],
      "source": [
        "class TopKRanker(OneVsRestClassifier):\n",
        "    def predict(self, X, top_k_list):\n",
        "        assert X.shape[0] == len(top_k_list)\n",
        "        probs = np.asarray(super(TopKRanker, self).predict_proba(X))\n",
        "        all_labels = []\n",
        "        for i, k in enumerate(top_k_list):\n",
        "            probs_ = probs[i, :]\n",
        "            labels = self.classes_[probs_.argsort()[-k:]].tolist()\n",
        "            all_labels.append(labels)\n",
        "        return all_labels"
      ]
    },
    {
      "cell_type": "code",
      "execution_count": 43,
      "metadata": {
        "id": "qDsvbWDuhoAY"
      },
      "outputs": [],
      "source": [
        "def get_array_str_labels(G):\n",
        "  '''\n",
        "  Input:\n",
        "    G: Graph\n",
        "  Output:\n",
        "    labels: Array with labels. Each position of the array will correspond to the groups of id = index + 1\n",
        "  '''\n",
        "\n",
        "  labels = []\n",
        "\n",
        "  for n in G.nodes:\n",
        "      l = G.nodes[n].get('group_belonging')\n",
        "      labels.append(str(l))\n",
        "  return labels"
      ]
    },
    {
      "cell_type": "code",
      "execution_count": 44,
      "metadata": {
        "id": "RHfxvq7JhoAZ"
      },
      "outputs": [],
      "source": [
        "# Method used when the dataset doesn't have all the nodes labeled and we need to evaluate\n",
        "def filter_phi(phi, labels_set):\n",
        "    '''\n",
        "    Input:\n",
        "      phi: Embedding matrix\n",
        "      labels_array: Array containing the\n",
        "\n",
        "    Output:\n",
        "      phi_new: Phi Embedding matrix containing only the rows of the labeled nodes\n",
        "    '''\n",
        "    label_np = np.array(labels_set) # Convert the set to a NumPy array\n",
        "\n",
        "    indices_containing_labels = [bool(node_set) for node_set in label_np] # List with True for those indices that correspond to nodes with labels, and False for those which don't have any\n",
        "\n",
        "    # Filter nodes with labels\n",
        "    filtered_labels = label_np[indices_containing_labels] # Numpy array containing the labels of those nodes that are labeled\n",
        "\n",
        "    # Get the indices to keep in the original order\n",
        "    indices_to_keep = np.where(indices_containing_labels)[0] # Id's of the indices (id_nodes - 1) that have a label\n",
        "\n",
        "    # Filter the embedding matrix\n",
        "    filtered_phi = phi[indices_to_keep, :]\n",
        "\n",
        "    return filtered_phi, filtered_labels"
      ]
    },
    {
      "cell_type": "markdown",
      "metadata": {},
      "source": [
        "### EVALUATION"
      ]
    },
    {
      "cell_type": "code",
      "execution_count": 45,
      "metadata": {
        "colab": {
          "base_uri": "https://localhost:8080/",
          "height": 229
        },
        "id": "jctoXCiDhoAZ",
        "outputId": "c347757c-47dc-4ae5-97f2-2e628ed84591"
      },
      "outputs": [],
      "source": [
        "labels_sets = get_set_labels(G_YT)\n",
        "new_phi, new_labels = filter_phi(phi_vectors_YT, labels_sets)\n",
        "\n",
        "features_matrix = np.asarray([phi_model_YT.wv[str(node+1)] for node in range(len(G_YT))])"
      ]
    },
    {
      "cell_type": "code",
      "execution_count": 46,
      "metadata": {
        "colab": {
          "base_uri": "https://localhost:8080/"
        },
        "id": "QjR_ej8KhoAU",
        "outputId": "b895478c-4409-47d9-95c9-67bf040987e5"
      },
      "outputs": [
        {
          "name": "stderr",
          "output_type": "stream",
          "text": [
            "/Users/silviaarellanogarcia/Documents/MSc MACHINE LEARNING/Advanced Machine Learning/Project/versiones Deepwalk/.venv/lib/python3.11/site-packages/sklearn/preprocessing/_label.py:900: UserWarning: unknown class(es) [0] will be ignored\n",
            "  warnings.warn(\n",
            "/Users/silviaarellanogarcia/Documents/MSc MACHINE LEARNING/Advanced Machine Learning/Project/versiones Deepwalk/.venv/lib/python3.11/site-packages/sklearn/preprocessing/_label.py:900: UserWarning: unknown class(es) [0] will be ignored\n",
            "  warnings.warn(\n",
            "/Users/silviaarellanogarcia/Documents/MSc MACHINE LEARNING/Advanced Machine Learning/Project/versiones Deepwalk/.venv/lib/python3.11/site-packages/sklearn/metrics/_classification.py:1760: UndefinedMetricWarning: F-score is ill-defined and being set to 0.0 in labels with no true nor predicted samples. Use `zero_division` parameter to control this behavior.\n",
            "  _warn_prf(average, \"true nor predicted\", \"F-score is\", len(true_sum))\n",
            "/Users/silviaarellanogarcia/Documents/MSc MACHINE LEARNING/Advanced Machine Learning/Project/versiones Deepwalk/.venv/lib/python3.11/site-packages/sklearn/preprocessing/_label.py:900: UserWarning: unknown class(es) [0] will be ignored\n",
            "  warnings.warn(\n",
            "/Users/silviaarellanogarcia/Documents/MSc MACHINE LEARNING/Advanced Machine Learning/Project/versiones Deepwalk/.venv/lib/python3.11/site-packages/sklearn/preprocessing/_label.py:900: UserWarning: unknown class(es) [0] will be ignored\n",
            "  warnings.warn(\n",
            "/Users/silviaarellanogarcia/Documents/MSc MACHINE LEARNING/Advanced Machine Learning/Project/versiones Deepwalk/.venv/lib/python3.11/site-packages/sklearn/metrics/_classification.py:1760: UndefinedMetricWarning: F-score is ill-defined and being set to 0.0 in labels with no true nor predicted samples. Use `zero_division` parameter to control this behavior.\n",
            "  _warn_prf(average, \"true nor predicted\", \"F-score is\", len(true_sum))\n",
            "/Users/silviaarellanogarcia/Documents/MSc MACHINE LEARNING/Advanced Machine Learning/Project/versiones Deepwalk/.venv/lib/python3.11/site-packages/sklearn/preprocessing/_label.py:900: UserWarning: unknown class(es) [0] will be ignored\n",
            "  warnings.warn(\n",
            "/Users/silviaarellanogarcia/Documents/MSc MACHINE LEARNING/Advanced Machine Learning/Project/versiones Deepwalk/.venv/lib/python3.11/site-packages/sklearn/preprocessing/_label.py:900: UserWarning: unknown class(es) [0] will be ignored\n",
            "  warnings.warn(\n",
            "/Users/silviaarellanogarcia/Documents/MSc MACHINE LEARNING/Advanced Machine Learning/Project/versiones Deepwalk/.venv/lib/python3.11/site-packages/sklearn/metrics/_classification.py:1760: UndefinedMetricWarning: F-score is ill-defined and being set to 0.0 in labels with no true nor predicted samples. Use `zero_division` parameter to control this behavior.\n",
            "  _warn_prf(average, \"true nor predicted\", \"F-score is\", len(true_sum))\n",
            "/Users/silviaarellanogarcia/Documents/MSc MACHINE LEARNING/Advanced Machine Learning/Project/versiones Deepwalk/.venv/lib/python3.11/site-packages/sklearn/preprocessing/_label.py:900: UserWarning: unknown class(es) [0] will be ignored\n",
            "  warnings.warn(\n",
            "/Users/silviaarellanogarcia/Documents/MSc MACHINE LEARNING/Advanced Machine Learning/Project/versiones Deepwalk/.venv/lib/python3.11/site-packages/sklearn/preprocessing/_label.py:900: UserWarning: unknown class(es) [0] will be ignored\n",
            "  warnings.warn(\n",
            "/Users/silviaarellanogarcia/Documents/MSc MACHINE LEARNING/Advanced Machine Learning/Project/versiones Deepwalk/.venv/lib/python3.11/site-packages/sklearn/metrics/_classification.py:1760: UndefinedMetricWarning: F-score is ill-defined and being set to 0.0 in labels with no true nor predicted samples. Use `zero_division` parameter to control this behavior.\n",
            "  _warn_prf(average, \"true nor predicted\", \"F-score is\", len(true_sum))\n",
            "/Users/silviaarellanogarcia/Documents/MSc MACHINE LEARNING/Advanced Machine Learning/Project/versiones Deepwalk/.venv/lib/python3.11/site-packages/sklearn/preprocessing/_label.py:900: UserWarning: unknown class(es) [0] will be ignored\n",
            "  warnings.warn(\n",
            "/Users/silviaarellanogarcia/Documents/MSc MACHINE LEARNING/Advanced Machine Learning/Project/versiones Deepwalk/.venv/lib/python3.11/site-packages/sklearn/preprocessing/_label.py:900: UserWarning: unknown class(es) [0] will be ignored\n",
            "  warnings.warn(\n",
            "/Users/silviaarellanogarcia/Documents/MSc MACHINE LEARNING/Advanced Machine Learning/Project/versiones Deepwalk/.venv/lib/python3.11/site-packages/sklearn/metrics/_classification.py:1760: UndefinedMetricWarning: F-score is ill-defined and being set to 0.0 in labels with no true nor predicted samples. Use `zero_division` parameter to control this behavior.\n",
            "  _warn_prf(average, \"true nor predicted\", \"F-score is\", len(true_sum))\n",
            "/Users/silviaarellanogarcia/Documents/MSc MACHINE LEARNING/Advanced Machine Learning/Project/versiones Deepwalk/.venv/lib/python3.11/site-packages/sklearn/preprocessing/_label.py:900: UserWarning: unknown class(es) [0] will be ignored\n",
            "  warnings.warn(\n",
            "/Users/silviaarellanogarcia/Documents/MSc MACHINE LEARNING/Advanced Machine Learning/Project/versiones Deepwalk/.venv/lib/python3.11/site-packages/sklearn/preprocessing/_label.py:900: UserWarning: unknown class(es) [0] will be ignored\n",
            "  warnings.warn(\n",
            "/Users/silviaarellanogarcia/Documents/MSc MACHINE LEARNING/Advanced Machine Learning/Project/versiones Deepwalk/.venv/lib/python3.11/site-packages/sklearn/metrics/_classification.py:1760: UndefinedMetricWarning: F-score is ill-defined and being set to 0.0 in labels with no true nor predicted samples. Use `zero_division` parameter to control this behavior.\n",
            "  _warn_prf(average, \"true nor predicted\", \"F-score is\", len(true_sum))\n",
            "/Users/silviaarellanogarcia/Documents/MSc MACHINE LEARNING/Advanced Machine Learning/Project/versiones Deepwalk/.venv/lib/python3.11/site-packages/sklearn/preprocessing/_label.py:900: UserWarning: unknown class(es) [0] will be ignored\n",
            "  warnings.warn(\n",
            "/Users/silviaarellanogarcia/Documents/MSc MACHINE LEARNING/Advanced Machine Learning/Project/versiones Deepwalk/.venv/lib/python3.11/site-packages/sklearn/preprocessing/_label.py:900: UserWarning: unknown class(es) [0] will be ignored\n",
            "  warnings.warn(\n",
            "/Users/silviaarellanogarcia/Documents/MSc MACHINE LEARNING/Advanced Machine Learning/Project/versiones Deepwalk/.venv/lib/python3.11/site-packages/sklearn/metrics/_classification.py:1760: UndefinedMetricWarning: F-score is ill-defined and being set to 0.0 in labels with no true nor predicted samples. Use `zero_division` parameter to control this behavior.\n",
            "  _warn_prf(average, \"true nor predicted\", \"F-score is\", len(true_sum))\n",
            "/Users/silviaarellanogarcia/Documents/MSc MACHINE LEARNING/Advanced Machine Learning/Project/versiones Deepwalk/.venv/lib/python3.11/site-packages/sklearn/preprocessing/_label.py:900: UserWarning: unknown class(es) [0] will be ignored\n",
            "  warnings.warn(\n",
            "/Users/silviaarellanogarcia/Documents/MSc MACHINE LEARNING/Advanced Machine Learning/Project/versiones Deepwalk/.venv/lib/python3.11/site-packages/sklearn/preprocessing/_label.py:900: UserWarning: unknown class(es) [0] will be ignored\n",
            "  warnings.warn(\n",
            "/Users/silviaarellanogarcia/Documents/MSc MACHINE LEARNING/Advanced Machine Learning/Project/versiones Deepwalk/.venv/lib/python3.11/site-packages/sklearn/metrics/_classification.py:1760: UndefinedMetricWarning: F-score is ill-defined and being set to 0.0 in labels with no true nor predicted samples. Use `zero_division` parameter to control this behavior.\n",
            "  _warn_prf(average, \"true nor predicted\", \"F-score is\", len(true_sum))\n",
            "/Users/silviaarellanogarcia/Documents/MSc MACHINE LEARNING/Advanced Machine Learning/Project/versiones Deepwalk/.venv/lib/python3.11/site-packages/sklearn/multiclass.py:84: UserWarning: Label not 38 is present in all training examples.\n",
            "  warnings.warn(\n",
            "/Users/silviaarellanogarcia/Documents/MSc MACHINE LEARNING/Advanced Machine Learning/Project/versiones Deepwalk/.venv/lib/python3.11/site-packages/sklearn/preprocessing/_label.py:900: UserWarning: unknown class(es) [0] will be ignored\n",
            "  warnings.warn(\n",
            "/Users/silviaarellanogarcia/Documents/MSc MACHINE LEARNING/Advanced Machine Learning/Project/versiones Deepwalk/.venv/lib/python3.11/site-packages/sklearn/preprocessing/_label.py:900: UserWarning: unknown class(es) [0] will be ignored\n",
            "  warnings.warn(\n",
            "/Users/silviaarellanogarcia/Documents/MSc MACHINE LEARNING/Advanced Machine Learning/Project/versiones Deepwalk/.venv/lib/python3.11/site-packages/sklearn/metrics/_classification.py:1760: UndefinedMetricWarning: F-score is ill-defined and being set to 0.0 in labels with no true nor predicted samples. Use `zero_division` parameter to control this behavior.\n",
            "  _warn_prf(average, \"true nor predicted\", \"F-score is\", len(true_sum))\n",
            "/Users/silviaarellanogarcia/Documents/MSc MACHINE LEARNING/Advanced Machine Learning/Project/versiones Deepwalk/.venv/lib/python3.11/site-packages/sklearn/multiclass.py:84: UserWarning: Label not 37 is present in all training examples.\n",
            "  warnings.warn(\n",
            "/Users/silviaarellanogarcia/Documents/MSc MACHINE LEARNING/Advanced Machine Learning/Project/versiones Deepwalk/.venv/lib/python3.11/site-packages/sklearn/preprocessing/_label.py:900: UserWarning: unknown class(es) [0] will be ignored\n",
            "  warnings.warn(\n",
            "/Users/silviaarellanogarcia/Documents/MSc MACHINE LEARNING/Advanced Machine Learning/Project/versiones Deepwalk/.venv/lib/python3.11/site-packages/sklearn/preprocessing/_label.py:900: UserWarning: unknown class(es) [0] will be ignored\n",
            "  warnings.warn(\n",
            "/Users/silviaarellanogarcia/Documents/MSc MACHINE LEARNING/Advanced Machine Learning/Project/versiones Deepwalk/.venv/lib/python3.11/site-packages/sklearn/metrics/_classification.py:1760: UndefinedMetricWarning: F-score is ill-defined and being set to 0.0 in labels with no true nor predicted samples. Use `zero_division` parameter to control this behavior.\n",
            "  _warn_prf(average, \"true nor predicted\", \"F-score is\", len(true_sum))\n",
            "/Users/silviaarellanogarcia/Documents/MSc MACHINE LEARNING/Advanced Machine Learning/Project/versiones Deepwalk/.venv/lib/python3.11/site-packages/sklearn/preprocessing/_label.py:900: UserWarning: unknown class(es) [0] will be ignored\n",
            "  warnings.warn(\n",
            "/Users/silviaarellanogarcia/Documents/MSc MACHINE LEARNING/Advanced Machine Learning/Project/versiones Deepwalk/.venv/lib/python3.11/site-packages/sklearn/preprocessing/_label.py:900: UserWarning: unknown class(es) [0] will be ignored\n",
            "  warnings.warn(\n",
            "/Users/silviaarellanogarcia/Documents/MSc MACHINE LEARNING/Advanced Machine Learning/Project/versiones Deepwalk/.venv/lib/python3.11/site-packages/sklearn/metrics/_classification.py:1760: UndefinedMetricWarning: F-score is ill-defined and being set to 0.0 in labels with no true nor predicted samples. Use `zero_division` parameter to control this behavior.\n",
            "  _warn_prf(average, \"true nor predicted\", \"F-score is\", len(true_sum))\n",
            "/Users/silviaarellanogarcia/Documents/MSc MACHINE LEARNING/Advanced Machine Learning/Project/versiones Deepwalk/.venv/lib/python3.11/site-packages/sklearn/preprocessing/_label.py:900: UserWarning: unknown class(es) [0] will be ignored\n",
            "  warnings.warn(\n",
            "/Users/silviaarellanogarcia/Documents/MSc MACHINE LEARNING/Advanced Machine Learning/Project/versiones Deepwalk/.venv/lib/python3.11/site-packages/sklearn/preprocessing/_label.py:900: UserWarning: unknown class(es) [0] will be ignored\n",
            "  warnings.warn(\n",
            "/Users/silviaarellanogarcia/Documents/MSc MACHINE LEARNING/Advanced Machine Learning/Project/versiones Deepwalk/.venv/lib/python3.11/site-packages/sklearn/metrics/_classification.py:1760: UndefinedMetricWarning: F-score is ill-defined and being set to 0.0 in labels with no true nor predicted samples. Use `zero_division` parameter to control this behavior.\n",
            "  _warn_prf(average, \"true nor predicted\", \"F-score is\", len(true_sum))\n",
            "/Users/silviaarellanogarcia/Documents/MSc MACHINE LEARNING/Advanced Machine Learning/Project/versiones Deepwalk/.venv/lib/python3.11/site-packages/sklearn/preprocessing/_label.py:900: UserWarning: unknown class(es) [0] will be ignored\n",
            "  warnings.warn(\n",
            "/Users/silviaarellanogarcia/Documents/MSc MACHINE LEARNING/Advanced Machine Learning/Project/versiones Deepwalk/.venv/lib/python3.11/site-packages/sklearn/preprocessing/_label.py:900: UserWarning: unknown class(es) [0] will be ignored\n",
            "  warnings.warn(\n",
            "/Users/silviaarellanogarcia/Documents/MSc MACHINE LEARNING/Advanced Machine Learning/Project/versiones Deepwalk/.venv/lib/python3.11/site-packages/sklearn/metrics/_classification.py:1760: UndefinedMetricWarning: F-score is ill-defined and being set to 0.0 in labels with no true nor predicted samples. Use `zero_division` parameter to control this behavior.\n",
            "  _warn_prf(average, \"true nor predicted\", \"F-score is\", len(true_sum))\n",
            "/Users/silviaarellanogarcia/Documents/MSc MACHINE LEARNING/Advanced Machine Learning/Project/versiones Deepwalk/.venv/lib/python3.11/site-packages/sklearn/preprocessing/_label.py:900: UserWarning: unknown class(es) [0] will be ignored\n",
            "  warnings.warn(\n",
            "/Users/silviaarellanogarcia/Documents/MSc MACHINE LEARNING/Advanced Machine Learning/Project/versiones Deepwalk/.venv/lib/python3.11/site-packages/sklearn/preprocessing/_label.py:900: UserWarning: unknown class(es) [0] will be ignored\n",
            "  warnings.warn(\n",
            "/Users/silviaarellanogarcia/Documents/MSc MACHINE LEARNING/Advanced Machine Learning/Project/versiones Deepwalk/.venv/lib/python3.11/site-packages/sklearn/metrics/_classification.py:1760: UndefinedMetricWarning: F-score is ill-defined and being set to 0.0 in labels with no true nor predicted samples. Use `zero_division` parameter to control this behavior.\n",
            "  _warn_prf(average, \"true nor predicted\", \"F-score is\", len(true_sum))\n",
            "/Users/silviaarellanogarcia/Documents/MSc MACHINE LEARNING/Advanced Machine Learning/Project/versiones Deepwalk/.venv/lib/python3.11/site-packages/sklearn/preprocessing/_label.py:900: UserWarning: unknown class(es) [0] will be ignored\n",
            "  warnings.warn(\n",
            "/Users/silviaarellanogarcia/Documents/MSc MACHINE LEARNING/Advanced Machine Learning/Project/versiones Deepwalk/.venv/lib/python3.11/site-packages/sklearn/preprocessing/_label.py:900: UserWarning: unknown class(es) [0] will be ignored\n",
            "  warnings.warn(\n",
            "/Users/silviaarellanogarcia/Documents/MSc MACHINE LEARNING/Advanced Machine Learning/Project/versiones Deepwalk/.venv/lib/python3.11/site-packages/sklearn/metrics/_classification.py:1760: UndefinedMetricWarning: F-score is ill-defined and being set to 0.0 in labels with no true nor predicted samples. Use `zero_division` parameter to control this behavior.\n",
            "  _warn_prf(average, \"true nor predicted\", \"F-score is\", len(true_sum))\n",
            "/Users/silviaarellanogarcia/Documents/MSc MACHINE LEARNING/Advanced Machine Learning/Project/versiones Deepwalk/.venv/lib/python3.11/site-packages/sklearn/preprocessing/_label.py:900: UserWarning: unknown class(es) [0] will be ignored\n",
            "  warnings.warn(\n",
            "/Users/silviaarellanogarcia/Documents/MSc MACHINE LEARNING/Advanced Machine Learning/Project/versiones Deepwalk/.venv/lib/python3.11/site-packages/sklearn/preprocessing/_label.py:900: UserWarning: unknown class(es) [0] will be ignored\n",
            "  warnings.warn(\n",
            "/Users/silviaarellanogarcia/Documents/MSc MACHINE LEARNING/Advanced Machine Learning/Project/versiones Deepwalk/.venv/lib/python3.11/site-packages/sklearn/metrics/_classification.py:1760: UndefinedMetricWarning: F-score is ill-defined and being set to 0.0 in labels with no true nor predicted samples. Use `zero_division` parameter to control this behavior.\n",
            "  _warn_prf(average, \"true nor predicted\", \"F-score is\", len(true_sum))\n",
            "/Users/silviaarellanogarcia/Documents/MSc MACHINE LEARNING/Advanced Machine Learning/Project/versiones Deepwalk/.venv/lib/python3.11/site-packages/sklearn/preprocessing/_label.py:900: UserWarning: unknown class(es) [0] will be ignored\n",
            "  warnings.warn(\n",
            "/Users/silviaarellanogarcia/Documents/MSc MACHINE LEARNING/Advanced Machine Learning/Project/versiones Deepwalk/.venv/lib/python3.11/site-packages/sklearn/preprocessing/_label.py:900: UserWarning: unknown class(es) [0] will be ignored\n",
            "  warnings.warn(\n",
            "/Users/silviaarellanogarcia/Documents/MSc MACHINE LEARNING/Advanced Machine Learning/Project/versiones Deepwalk/.venv/lib/python3.11/site-packages/sklearn/metrics/_classification.py:1760: UndefinedMetricWarning: F-score is ill-defined and being set to 0.0 in labels with no true nor predicted samples. Use `zero_division` parameter to control this behavior.\n",
            "  _warn_prf(average, \"true nor predicted\", \"F-score is\", len(true_sum))\n",
            "/Users/silviaarellanogarcia/Documents/MSc MACHINE LEARNING/Advanced Machine Learning/Project/versiones Deepwalk/.venv/lib/python3.11/site-packages/sklearn/preprocessing/_label.py:900: UserWarning: unknown class(es) [0] will be ignored\n",
            "  warnings.warn(\n",
            "/Users/silviaarellanogarcia/Documents/MSc MACHINE LEARNING/Advanced Machine Learning/Project/versiones Deepwalk/.venv/lib/python3.11/site-packages/sklearn/preprocessing/_label.py:900: UserWarning: unknown class(es) [0] will be ignored\n",
            "  warnings.warn(\n",
            "/Users/silviaarellanogarcia/Documents/MSc MACHINE LEARNING/Advanced Machine Learning/Project/versiones Deepwalk/.venv/lib/python3.11/site-packages/sklearn/metrics/_classification.py:1760: UndefinedMetricWarning: F-score is ill-defined and being set to 0.0 in labels with no true nor predicted samples. Use `zero_division` parameter to control this behavior.\n",
            "  _warn_prf(average, \"true nor predicted\", \"F-score is\", len(true_sum))\n",
            "/Users/silviaarellanogarcia/Documents/MSc MACHINE LEARNING/Advanced Machine Learning/Project/versiones Deepwalk/.venv/lib/python3.11/site-packages/sklearn/preprocessing/_label.py:900: UserWarning: unknown class(es) [0] will be ignored\n",
            "  warnings.warn(\n",
            "/Users/silviaarellanogarcia/Documents/MSc MACHINE LEARNING/Advanced Machine Learning/Project/versiones Deepwalk/.venv/lib/python3.11/site-packages/sklearn/preprocessing/_label.py:900: UserWarning: unknown class(es) [0] will be ignored\n",
            "  warnings.warn(\n",
            "/Users/silviaarellanogarcia/Documents/MSc MACHINE LEARNING/Advanced Machine Learning/Project/versiones Deepwalk/.venv/lib/python3.11/site-packages/sklearn/metrics/_classification.py:1760: UndefinedMetricWarning: F-score is ill-defined and being set to 0.0 in labels with no true nor predicted samples. Use `zero_division` parameter to control this behavior.\n",
            "  _warn_prf(average, \"true nor predicted\", \"F-score is\", len(true_sum))\n",
            "/Users/silviaarellanogarcia/Documents/MSc MACHINE LEARNING/Advanced Machine Learning/Project/versiones Deepwalk/.venv/lib/python3.11/site-packages/sklearn/preprocessing/_label.py:900: UserWarning: unknown class(es) [0] will be ignored\n",
            "  warnings.warn(\n",
            "/Users/silviaarellanogarcia/Documents/MSc MACHINE LEARNING/Advanced Machine Learning/Project/versiones Deepwalk/.venv/lib/python3.11/site-packages/sklearn/preprocessing/_label.py:900: UserWarning: unknown class(es) [0] will be ignored\n",
            "  warnings.warn(\n",
            "/Users/silviaarellanogarcia/Documents/MSc MACHINE LEARNING/Advanced Machine Learning/Project/versiones Deepwalk/.venv/lib/python3.11/site-packages/sklearn/metrics/_classification.py:1760: UndefinedMetricWarning: F-score is ill-defined and being set to 0.0 in labels with no true nor predicted samples. Use `zero_division` parameter to control this behavior.\n",
            "  _warn_prf(average, \"true nor predicted\", \"F-score is\", len(true_sum))\n",
            "/Users/silviaarellanogarcia/Documents/MSc MACHINE LEARNING/Advanced Machine Learning/Project/versiones Deepwalk/.venv/lib/python3.11/site-packages/sklearn/preprocessing/_label.py:900: UserWarning: unknown class(es) [0] will be ignored\n",
            "  warnings.warn(\n",
            "/Users/silviaarellanogarcia/Documents/MSc MACHINE LEARNING/Advanced Machine Learning/Project/versiones Deepwalk/.venv/lib/python3.11/site-packages/sklearn/preprocessing/_label.py:900: UserWarning: unknown class(es) [0] will be ignored\n",
            "  warnings.warn(\n",
            "/Users/silviaarellanogarcia/Documents/MSc MACHINE LEARNING/Advanced Machine Learning/Project/versiones Deepwalk/.venv/lib/python3.11/site-packages/sklearn/metrics/_classification.py:1760: UndefinedMetricWarning: F-score is ill-defined and being set to 0.0 in labels with no true nor predicted samples. Use `zero_division` parameter to control this behavior.\n",
            "  _warn_prf(average, \"true nor predicted\", \"F-score is\", len(true_sum))\n",
            "/Users/silviaarellanogarcia/Documents/MSc MACHINE LEARNING/Advanced Machine Learning/Project/versiones Deepwalk/.venv/lib/python3.11/site-packages/sklearn/preprocessing/_label.py:900: UserWarning: unknown class(es) [0] will be ignored\n",
            "  warnings.warn(\n",
            "/Users/silviaarellanogarcia/Documents/MSc MACHINE LEARNING/Advanced Machine Learning/Project/versiones Deepwalk/.venv/lib/python3.11/site-packages/sklearn/preprocessing/_label.py:900: UserWarning: unknown class(es) [0] will be ignored\n",
            "  warnings.warn(\n",
            "/Users/silviaarellanogarcia/Documents/MSc MACHINE LEARNING/Advanced Machine Learning/Project/versiones Deepwalk/.venv/lib/python3.11/site-packages/sklearn/metrics/_classification.py:1760: UndefinedMetricWarning: F-score is ill-defined and being set to 0.0 in labels with no true nor predicted samples. Use `zero_division` parameter to control this behavior.\n",
            "  _warn_prf(average, \"true nor predicted\", \"F-score is\", len(true_sum))\n",
            "/Users/silviaarellanogarcia/Documents/MSc MACHINE LEARNING/Advanced Machine Learning/Project/versiones Deepwalk/.venv/lib/python3.11/site-packages/sklearn/preprocessing/_label.py:900: UserWarning: unknown class(es) [0] will be ignored\n",
            "  warnings.warn(\n",
            "/Users/silviaarellanogarcia/Documents/MSc MACHINE LEARNING/Advanced Machine Learning/Project/versiones Deepwalk/.venv/lib/python3.11/site-packages/sklearn/preprocessing/_label.py:900: UserWarning: unknown class(es) [0] will be ignored\n",
            "  warnings.warn(\n",
            "/Users/silviaarellanogarcia/Documents/MSc MACHINE LEARNING/Advanced Machine Learning/Project/versiones Deepwalk/.venv/lib/python3.11/site-packages/sklearn/metrics/_classification.py:1760: UndefinedMetricWarning: F-score is ill-defined and being set to 0.0 in labels with no true nor predicted samples. Use `zero_division` parameter to control this behavior.\n",
            "  _warn_prf(average, \"true nor predicted\", \"F-score is\", len(true_sum))\n",
            "/Users/silviaarellanogarcia/Documents/MSc MACHINE LEARNING/Advanced Machine Learning/Project/versiones Deepwalk/.venv/lib/python3.11/site-packages/sklearn/preprocessing/_label.py:900: UserWarning: unknown class(es) [0] will be ignored\n",
            "  warnings.warn(\n",
            "/Users/silviaarellanogarcia/Documents/MSc MACHINE LEARNING/Advanced Machine Learning/Project/versiones Deepwalk/.venv/lib/python3.11/site-packages/sklearn/preprocessing/_label.py:900: UserWarning: unknown class(es) [0] will be ignored\n",
            "  warnings.warn(\n",
            "/Users/silviaarellanogarcia/Documents/MSc MACHINE LEARNING/Advanced Machine Learning/Project/versiones Deepwalk/.venv/lib/python3.11/site-packages/sklearn/metrics/_classification.py:1760: UndefinedMetricWarning: F-score is ill-defined and being set to 0.0 in labels with no true nor predicted samples. Use `zero_division` parameter to control this behavior.\n",
            "  _warn_prf(average, \"true nor predicted\", \"F-score is\", len(true_sum))\n",
            "/Users/silviaarellanogarcia/Documents/MSc MACHINE LEARNING/Advanced Machine Learning/Project/versiones Deepwalk/.venv/lib/python3.11/site-packages/sklearn/preprocessing/_label.py:900: UserWarning: unknown class(es) [0] will be ignored\n",
            "  warnings.warn(\n",
            "/Users/silviaarellanogarcia/Documents/MSc MACHINE LEARNING/Advanced Machine Learning/Project/versiones Deepwalk/.venv/lib/python3.11/site-packages/sklearn/preprocessing/_label.py:900: UserWarning: unknown class(es) [0] will be ignored\n",
            "  warnings.warn(\n",
            "/Users/silviaarellanogarcia/Documents/MSc MACHINE LEARNING/Advanced Machine Learning/Project/versiones Deepwalk/.venv/lib/python3.11/site-packages/sklearn/metrics/_classification.py:1760: UndefinedMetricWarning: F-score is ill-defined and being set to 0.0 in labels with no true nor predicted samples. Use `zero_division` parameter to control this behavior.\n",
            "  _warn_prf(average, \"true nor predicted\", \"F-score is\", len(true_sum))\n",
            "/Users/silviaarellanogarcia/Documents/MSc MACHINE LEARNING/Advanced Machine Learning/Project/versiones Deepwalk/.venv/lib/python3.11/site-packages/sklearn/preprocessing/_label.py:900: UserWarning: unknown class(es) [0] will be ignored\n",
            "  warnings.warn(\n",
            "/Users/silviaarellanogarcia/Documents/MSc MACHINE LEARNING/Advanced Machine Learning/Project/versiones Deepwalk/.venv/lib/python3.11/site-packages/sklearn/preprocessing/_label.py:900: UserWarning: unknown class(es) [0] will be ignored\n",
            "  warnings.warn(\n",
            "/Users/silviaarellanogarcia/Documents/MSc MACHINE LEARNING/Advanced Machine Learning/Project/versiones Deepwalk/.venv/lib/python3.11/site-packages/sklearn/metrics/_classification.py:1760: UndefinedMetricWarning: F-score is ill-defined and being set to 0.0 in labels with no true nor predicted samples. Use `zero_division` parameter to control this behavior.\n",
            "  _warn_prf(average, \"true nor predicted\", \"F-score is\", len(true_sum))\n",
            "/Users/silviaarellanogarcia/Documents/MSc MACHINE LEARNING/Advanced Machine Learning/Project/versiones Deepwalk/.venv/lib/python3.11/site-packages/sklearn/preprocessing/_label.py:900: UserWarning: unknown class(es) [0] will be ignored\n",
            "  warnings.warn(\n",
            "/Users/silviaarellanogarcia/Documents/MSc MACHINE LEARNING/Advanced Machine Learning/Project/versiones Deepwalk/.venv/lib/python3.11/site-packages/sklearn/preprocessing/_label.py:900: UserWarning: unknown class(es) [0] will be ignored\n",
            "  warnings.warn(\n",
            "/Users/silviaarellanogarcia/Documents/MSc MACHINE LEARNING/Advanced Machine Learning/Project/versiones Deepwalk/.venv/lib/python3.11/site-packages/sklearn/metrics/_classification.py:1760: UndefinedMetricWarning: F-score is ill-defined and being set to 0.0 in labels with no true nor predicted samples. Use `zero_division` parameter to control this behavior.\n",
            "  _warn_prf(average, \"true nor predicted\", \"F-score is\", len(true_sum))\n",
            "/Users/silviaarellanogarcia/Documents/MSc MACHINE LEARNING/Advanced Machine Learning/Project/versiones Deepwalk/.venv/lib/python3.11/site-packages/sklearn/preprocessing/_label.py:900: UserWarning: unknown class(es) [0] will be ignored\n",
            "  warnings.warn(\n",
            "/Users/silviaarellanogarcia/Documents/MSc MACHINE LEARNING/Advanced Machine Learning/Project/versiones Deepwalk/.venv/lib/python3.11/site-packages/sklearn/preprocessing/_label.py:900: UserWarning: unknown class(es) [0] will be ignored\n",
            "  warnings.warn(\n",
            "/Users/silviaarellanogarcia/Documents/MSc MACHINE LEARNING/Advanced Machine Learning/Project/versiones Deepwalk/.venv/lib/python3.11/site-packages/sklearn/metrics/_classification.py:1760: UndefinedMetricWarning: F-score is ill-defined and being set to 0.0 in labels with no true nor predicted samples. Use `zero_division` parameter to control this behavior.\n",
            "  _warn_prf(average, \"true nor predicted\", \"F-score is\", len(true_sum))\n",
            "/Users/silviaarellanogarcia/Documents/MSc MACHINE LEARNING/Advanced Machine Learning/Project/versiones Deepwalk/.venv/lib/python3.11/site-packages/sklearn/preprocessing/_label.py:900: UserWarning: unknown class(es) [0] will be ignored\n",
            "  warnings.warn(\n",
            "/Users/silviaarellanogarcia/Documents/MSc MACHINE LEARNING/Advanced Machine Learning/Project/versiones Deepwalk/.venv/lib/python3.11/site-packages/sklearn/preprocessing/_label.py:900: UserWarning: unknown class(es) [0] will be ignored\n",
            "  warnings.warn(\n",
            "/Users/silviaarellanogarcia/Documents/MSc MACHINE LEARNING/Advanced Machine Learning/Project/versiones Deepwalk/.venv/lib/python3.11/site-packages/sklearn/metrics/_classification.py:1760: UndefinedMetricWarning: F-score is ill-defined and being set to 0.0 in labels with no true nor predicted samples. Use `zero_division` parameter to control this behavior.\n",
            "  _warn_prf(average, \"true nor predicted\", \"F-score is\", len(true_sum))\n",
            "/Users/silviaarellanogarcia/Documents/MSc MACHINE LEARNING/Advanced Machine Learning/Project/versiones Deepwalk/.venv/lib/python3.11/site-packages/sklearn/preprocessing/_label.py:900: UserWarning: unknown class(es) [0] will be ignored\n",
            "  warnings.warn(\n",
            "/Users/silviaarellanogarcia/Documents/MSc MACHINE LEARNING/Advanced Machine Learning/Project/versiones Deepwalk/.venv/lib/python3.11/site-packages/sklearn/preprocessing/_label.py:900: UserWarning: unknown class(es) [0] will be ignored\n",
            "  warnings.warn(\n",
            "/Users/silviaarellanogarcia/Documents/MSc MACHINE LEARNING/Advanced Machine Learning/Project/versiones Deepwalk/.venv/lib/python3.11/site-packages/sklearn/metrics/_classification.py:1760: UndefinedMetricWarning: F-score is ill-defined and being set to 0.0 in labels with no true nor predicted samples. Use `zero_division` parameter to control this behavior.\n",
            "  _warn_prf(average, \"true nor predicted\", \"F-score is\", len(true_sum))\n"
          ]
        }
      ],
      "source": [
        "adj_G_YT = nx.adjacency_matrix(G_YT, nodelist=None, dtype=None, weight='weight') # Adjacency matrix: Square matrix of N x N size used to represent the connections between the edges of a graph.\n",
        "adj_graph = adj_dictionary(adj_G_YT)\n",
        "num_labels = len(groups_id)\n",
        "mlb = MultiLabelBinarizer(classes=range(1, len(groups_id) + 1))\n",
        "\n",
        "labels_bin = mlb.fit_transform(new_labels)\n",
        "labels_bin = np.array(labels_bin)\n",
        "\n",
        "shuffles = []\n",
        "for x in range(10): # Decide how many shuffles I want to make\n",
        "    shuffles.append(skshuffle(features_matrix, labels_bin)) # The sklearn shuffle shuffles arrays or sparse matrices in a consistent way.\n",
        "\n",
        "\n",
        "all_results = defaultdict(list)\n",
        "\n",
        "training_percents = [0.1, 0.5, 0.9]\n",
        "\n",
        "for train_percent in training_percents:\n",
        "    for shuf in shuffles:\n",
        "        X, y = shuf ## X corresponds to the phi_vectors and y to the labels.\n",
        "\n",
        "        training_size = int(train_percent * len(X))\n",
        "\n",
        "        X_train = X[:training_size, :]\n",
        "        y_train_ = y[:training_size]\n",
        "\n",
        "        y_train = [[] for x in range(len(y_train_))]\n",
        "\n",
        "        y_train_sparse = coo_matrix(y_train_)\n",
        "        cy =  y_train_sparse.tocoo()\n",
        "\n",
        "        for i, j in zip(cy.row, cy.col):\n",
        "            y_train[i].append(j)\n",
        "\n",
        "        assert sum(len(l) for l in y_train) == np.count_nonzero(y_train_)\n",
        "\n",
        "        X_test = X[training_size:, :]\n",
        "        y_test_ = y[training_size:]\n",
        "\n",
        "        y_test = [[] for _ in range(len(y_test_))]\n",
        "\n",
        "        y_test_sparse = coo_matrix(y_test_)\n",
        "        cy =  y_test_sparse.tocoo()\n",
        "        for i, j in zip(cy.row, cy.col):\n",
        "            y_test[i].append(j)\n",
        "\n",
        "        clf = TopKRanker(LogisticRegression()) # creates an instance of TopKRanker with a LogisticRegression model as the base classifier.\n",
        "        clf.fit(X_train, y_train_)\n",
        "\n",
        "        # find out how many labels should be predicted\n",
        "        top_k_list = [len(l) for l in y_test]\n",
        "        preds = clf.predict(X_test, top_k_list)\n",
        "\n",
        "        results = {}\n",
        "        averages = [\"micro\", \"macro\"]\n",
        "        for average in averages:\n",
        "            results[average] = f1_score(mlb.fit_transform(y_test), mlb.fit_transform(preds), average=average)\n",
        "\n",
        "        all_results[train_percent].append(results)\n"
      ]
    },
    {
      "cell_type": "code",
      "execution_count": 39,
      "metadata": {
        "colab": {
          "base_uri": "https://localhost:8080/"
        },
        "id": "eP-HFNxFhoAX",
        "outputId": "d64312d5-d754-46c9-c780-4c08cd8b9d79"
      },
      "outputs": [
        {
          "name": "stdout",
          "output_type": "stream",
          "text": [
            "Results, using embeddings of dimensionality 128\n",
            "-------------------\n",
            "Train percent: 0.1\n",
            "Train percent: 0.5\n",
            "Train percent: 0.9\n",
            "Shuffle #1:    {'micro': 0.41722086104305217, 'macro': 0.28335589277764167}\n",
            "Shuffle #2:    {'micro': 0.41140819964349373, 'macro': 0.29400088828594595}\n",
            "Shuffle #3:    {'micro': 0.39352170916609236, 'macro': 0.24641517902967136}\n",
            "Shuffle #4:    {'micro': 0.4069767441860465, 'macro': 0.26810620578097144}\n",
            "Shuffle #5:    {'micro': 0.39710942876806604, 'macro': 0.27551900188635675}\n",
            "Shuffle #6:    {'micro': 0.3849698688408366, 'macro': 0.2335600328613171}\n",
            "Shuffle #7:    {'micro': 0.3978571428571429, 'macro': 0.27831425271751586}\n",
            "Shuffle #8:    {'micro': 0.417910447761194, 'macro': 0.24580706933634586}\n",
            "Shuffle #9:    {'micro': 0.40310624779385806, 'macro': 0.2812712832148978}\n",
            "Shuffle #10:    {'micro': 0.42633451957295376, 'macro': 0.30187036638798037}\n",
            "Average score: {'micro': 0.40564151696327355, 'macro': 0.27082201722786436}\n",
            "-------------------\n"
          ]
        }
      ],
      "source": [
        "print ('Results, using embeddings of dimensionality', X.shape[1])\n",
        "print ('-------------------')\n",
        "for train_percent in sorted(all_results.keys()):\n",
        "    print ('Train percent:', train_percent)\n",
        "for index, result in enumerate(all_results[train_percent]):\n",
        "    print ('Shuffle #%d:   ' % (index + 1), result)\n",
        "avg_score = defaultdict(float)\n",
        "for score_dict in all_results[train_percent]:\n",
        "    for metric, score in score_dict.items():\n",
        "        avg_score[metric] += score\n",
        "for metric in avg_score:\n",
        "    avg_score[metric] /= len(all_results[train_percent])\n",
        "print ('Average score:', dict(avg_score))\n",
        "print ('-------------------')"
      ]
    }
  ],
  "metadata": {
    "colab": {
      "provenance": []
    },
    "kernelspec": {
      "display_name": "Python 3",
      "name": "python3"
    },
    "language_info": {
      "codemirror_mode": {
        "name": "ipython",
        "version": 3
      },
      "file_extension": ".py",
      "mimetype": "text/x-python",
      "name": "python",
      "nbconvert_exporter": "python",
      "pygments_lexer": "ipython3",
      "version": "3.11.2"
    }
  },
  "nbformat": 4,
  "nbformat_minor": 0
}

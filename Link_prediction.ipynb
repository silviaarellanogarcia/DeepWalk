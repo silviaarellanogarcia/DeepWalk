{
 "cells": [
  {
   "cell_type": "markdown",
   "metadata": {
    "id": "5bjYrUL9V7LV"
   },
   "source": [
    "# Link prediction"
   ]
  },
  {
   "cell_type": "code",
   "execution_count": 1,
   "metadata": {
    "id": "57O237suPDmh"
   },
   "outputs": [],
   "source": [
    "from sklearn.preprocessing import StandardScaler\n",
    "from sklearn.metrics import roc_auc_score\n",
    "from sklearn.model_selection import train_test_split\n",
    "\n",
    "import networkx as nx\n",
    "import pandas as pd\n",
    "import numpy as np\n",
    "\n",
    "import torch\n",
    "from torch_geometric.transforms import RandomLinkSplit\n",
    "from torch_geometric.utils import to_networkx, from_networkx\n",
    "from gensim.models.keyedvectors import KeyedVectors"
   ]
  },
  {
   "cell_type": "code",
   "execution_count": 2,
   "metadata": {
    "collapsed": false
   },
   "outputs": [
    {
     "name": "stdout",
     "output_type": "stream",
     "text": [
      "Number of nodes: 10312  |  Number of edges: 333983\n"
     ]
    }
   ],
   "source": [
    "# Load the data\n",
    "folder_path = '/Users/silviaarellanogarcia/Documents/MSc MACHINE LEARNING/Advanced Machine Learning/Project/Datasets/BlogCatalog-dataset/'\n",
    "edges_path = folder_path + 'data/edges.csv'\n",
    "nodes_path = folder_path + 'data/nodes.csv'\n",
    "groups_path = folder_path + 'data/groups.csv'\n",
    "group_edges_path = folder_path + 'data/group-edges.csv'\n",
    "\n",
    "nodes_id = pd.read_csv(nodes_path, header=None, names=['id'])\n",
    "groups_id = pd.read_csv(groups_path, header=None, names=['group'])\n",
    "edges = pd.read_csv(edges_path, header=None, names=['id_1', 'id_2'])\n",
    "user_group_membership = pd.read_csv(group_edges_path, header=None, names=['id', 'group'])\n",
    "\n",
    "# Create a graph\n",
    "G_BC = nx.Graph()\n",
    "\n",
    "# Add nodes to the graph\n",
    "G_BC.add_nodes_from(nodes_id['id'])\n",
    "\n",
    "# Add edges to the graph\n",
    "G_BC.add_edges_from(edges[['id_1', 'id_2']].values)\n",
    "\n",
    "# Create a dictionary to store groups for each ID\n",
    "group_dict = {}\n",
    "\n",
    "# Populate the group_dict\n",
    "for _, row in user_group_membership.iterrows():\n",
    "    user_id = row['id']\n",
    "    group_id = row['group']\n",
    "\n",
    "    # Check if the user_id is already in the dictionary\n",
    "    if user_id in group_dict:\n",
    "        group_dict[user_id].append(group_id)\n",
    "    else:\n",
    "        group_dict[user_id] = [group_id]\n",
    "\n",
    "# Add group labels to the nodes\n",
    "for user_id, groups in group_dict.items():\n",
    "    nx.set_node_attributes(G_BC, {user_id: groups}, 'group_belonging')\n",
    "\n",
    "# Print basic graph information\n",
    "print(\"Number of nodes:\", G_BC.number_of_nodes(), ' | ', \"Number of edges:\", G_BC.number_of_edges())"
   ]
  },
  {
   "cell_type": "code",
   "execution_count": 3,
   "metadata": {
    "collapsed": false
   },
   "outputs": [],
   "source": [
    "def predict_link(u, v, embeddings):\n",
    "    \"\"\"\n",
    "    Computes the normalized probability for an existing link between two nodes u and v based on the input\n",
    "    embeddings.\n",
    "    :param u: a node in the graph\n",
    "    :param v: a node in the graph\n",
    "    :param embeddings: trained embeddings\n",
    "    :return: sigmoid normalized probability for the existence of a link\n",
    "    \"\"\"\n",
    "    embedding1 = embeddings[u]\n",
    "    embedding2 = embeddings[v]\n",
    "    \n",
    "    # Compute inner product (dot product)\n",
    "    dot_product = np.dot(embedding1, embedding2)\n",
    "\n",
    "    # Normalize by sigmoid function\n",
    "    link_probability = 1/(1 + np.exp(-dot_product))\n",
    "    return link_probability\n",
    "\n",
    "\n",
    "def link_predictions(embeddings, edges, y_true):\n",
    "    \"\"\"\n",
    "    Computes the ROC-AUC score for a given set of test edges based on the trained embeddings.\n",
    "    :param embeddings: a models trained embeddings\n",
    "    :param edges: test edges\n",
    "    :param y_true: the labels for edges (1=true, 0=false)\n",
    "    :return: the ROC-AUC score from predictions\n",
    "    \"\"\"\n",
    "    predictions = []\n",
    "    for edge in edges:\n",
    "        predictions.append(predict_link(edge[0], edge[1], embeddings))\n",
    "    return roc_auc_score(y_true, predictions) \n",
    "\n",
    "\n",
    "def train_test_split_graph(G):\n",
    "    \"\"\"\n",
    "    Splits a Graph into a test and train set randomly to 80-20. The test split is balanced with negative edges sampled from random vertex pairs that have no edges between them. \n",
    "    While removing edges randomly, it makes sure that no vertex is isolated.\n",
    "    :param G: a networkx graph to be split\n",
    "    :return: the train-test split as torch geometrics graphs\n",
    "    \"\"\"\n",
    "    data = from_networkx(G)\n",
    "    try:\n",
    "        data.y = data.group_belonging\n",
    "    except:\n",
    "        data.y = data.club  # this only happens with karate club\n",
    "    data.x = torch.arange(G.number_of_nodes()).unsqueeze(1)\n",
    "    \n",
    "    transform = RandomLinkSplit(num_val=0, num_test=0.5, is_undirected=True, add_negative_train_samples=False)\n",
    "    train_data, _, test_data = transform(data)\n",
    "    return train_data, test_data"
   ]
  },
  {
   "cell_type": "code",
   "execution_count": 7,
   "metadata": {},
   "outputs": [],
   "source": [
    "# LOAD THE EMBEDDING\n",
    "PATH = '/Users/silviaarellanogarcia/Documents/MSc MACHINE LEARNING/Advanced Machine Learning/Project/embeddings_node2vec/'\n",
    "phi_model_YT = KeyedVectors.load_word2vec_format(PATH + 'catlog_ep5.emb')"
   ]
  },
  {
   "cell_type": "code",
   "execution_count": 8,
   "metadata": {},
   "outputs": [],
   "source": [
    "# GET THE VECTORS\n",
    "embeddings = phi_model_YT.vectors"
   ]
  },
  {
   "cell_type": "code",
   "execution_count": 9,
   "metadata": {
    "ExecuteTime": {
     "end_time": "2023-12-31T12:12:50.302871Z",
     "start_time": "2023-12-31T12:12:50.301129Z"
    },
    "collapsed": false
   },
   "outputs": [],
   "source": [
    "# LINK PREDICTION\n",
    "train_data, test_data = train_test_split_graph(G_BC)\n",
    "\n",
    "# Prepare edges\n",
    "test_edges = test_data.edge_label_index.numpy().T\n",
    "y_true = test_data.edge_label.numpy()\n",
    "\n",
    "roc_auc = link_predictions(embeddings, test_edges, y_true)\n"
   ]
  },
  {
   "cell_type": "code",
   "execution_count": 10,
   "metadata": {
    "collapsed": false
   },
   "outputs": [
    {
     "data": {
      "text/plain": [
       "0.49853688118912"
      ]
     },
     "execution_count": 10,
     "metadata": {},
     "output_type": "execute_result"
    }
   ],
   "source": [
    "roc_auc"
   ]
  }
 ],
 "metadata": {
  "colab": {
   "provenance": []
  },
  "kernelspec": {
   "display_name": "Python 3 (ipykernel)",
   "language": "python",
   "name": "python3"
  },
  "language_info": {
   "codemirror_mode": {
    "name": "ipython",
    "version": 3
   },
   "file_extension": ".py",
   "mimetype": "text/x-python",
   "name": "python",
   "nbconvert_exporter": "python",
   "pygments_lexer": "ipython3",
   "version": "3.11.2"
  }
 },
 "nbformat": 4,
 "nbformat_minor": 0
}
